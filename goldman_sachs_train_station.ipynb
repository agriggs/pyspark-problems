{
 "cells": [
  {
   "cell_type": "markdown",
   "metadata": {},
   "source": [
    "# Problem Statement\n",
    "https://medium.com/data-engineer-things/goldman-sachs-pyspark-interview-question-hard-level-8ed11a49c9c7\n",
    "\n",
    "Calculate the minimum number of platforms required at a train station based on the given arrival_times and departure_times"
   ]
  },
  {
   "cell_type": "code",
   "execution_count": null,
   "metadata": {},
   "outputs": [],
   "source": [
    "from pyspark.sql import SparkSession\n",
    "from pyspark.sql import functions as F\n",
    "\n",
    "# Initialize Spark session\n",
    "spark = SparkSession.builder.master(\"local\").appName(\"train-station\").getOrCreate()\n",
    "\n",
    "# Sample Data (Train Arrival and Departure times)\n",
    "arrivals_data = [\n",
    "    (1, '2024-11-17 08:00'),\n",
    "    (2, '2024-11-17 08:05'),\n",
    "    (3, '2024-11-17 08:05'),\n",
    "    (4, '2024-11-17 08:10'),\n",
    "    (5, '2024-11-17 08:10'),\n",
    "    (6, '2024-11-17 12:15'),\n",
    "    (7, '2024-11-17 12:20'),\n",
    "    (8, '2024-11-17 12:25'),\n",
    "    (9, '2024-11-17 15:00'),\n",
    "    (10, '2024-11-17 15:00'),\n",
    "    (11, '2024-11-17 15:00'),\n",
    "    (12, '2024-11-17 15:06'),\n",
    "    (13, '2024-11-17 20:00'),\n",
    "    (14, '2024-11-17 20:10')\n",
    "]\n",
    "\n",
    "departures_data = [\n",
    "    (1, '2024-11-17 08:15'),\n",
    "    (2, '2024-11-17 08:10'),\n",
    "    (3, '2024-11-17 08:20'),\n",
    "    (4, '2024-11-17 08:25'),\n",
    "    (5, '2024-11-17 08:20'),\n",
    "    (6, '2024-11-17 13:00'),\n",
    "    (7, '2024-11-17 12:25'),\n",
    "    (8, '2024-11-17 12:30'),\n",
    "    (9, '2024-11-17 15:05'),\n",
    "    (10, '2024-11-17 15:10'),\n",
    "    (11, '2024-11-17 15:15'),\n",
    "    (12, '2024-11-17 15:15'),\n",
    "    (13, '2024-11-17 20:15'),\n",
    "    (14, '2024-11-17 20:15')\n",
    "]\n",
    "\n",
    "# Create DataFrames\n",
    "arrivals_df = spark.createDataFrame(arrivals_data, ['train_id', 'arrival_time'])\n",
    "departures_df = spark.createDataFrame(departures_data, ['train_id', 'departure_time'])\n",
    "\n",
    "# join the two dataframes\n",
    "train_station_df = arrivals_df.join(departures_df, 'train_id')"
   ]
  },
  {
   "cell_type": "code",
   "execution_count": null,
   "metadata": {},
   "outputs": [],
   "source": [
    "# cast the arrival and departure times to timestamp\n",
    "train_station_df = train_station_df \\\n",
    "    .withColumn('arrival_time', F.to_timestamp('arrival_time')) \\\n",
    "    .withColumn('departure_time', F.to_timestamp('departure_time'))\n",
    "\n",
    "train_station_df.show()"
   ]
  },
  {
   "cell_type": "code",
   "execution_count": null,
   "metadata": {},
   "outputs": [],
   "source": [
    "train_station_df.printSchema()"
   ]
  },
  {
   "cell_type": "code",
   "execution_count": null,
   "metadata": {},
   "outputs": [],
   "source": [
    "intervals_df = train_station_df \\\n",
    "    .withColumn('interval', F.expr('departure_time - arrival_time')) \\\n",
    "\n",
    "# get minimum interval\n",
    "\n",
    "intervals_min_df = intervals_df.select(F.min('interval'))\n",
    "intervals_min_df.show()\n",
    "\n",
    "interval_string = intervals_min_df.first()[0]\n",
    "print(f\"Minimum interval: {interval_string}\")\n",
    "\n",
    "# Interval can be anything less than or equal to the difference between arrival and departure (see previous code cell)\n",
    "interval_minutes = int(interval_string.total_seconds() / 60)\n",
    "print(f\"Interval in minutes: {interval_minutes}\")"
   ]
  },
  {
   "cell_type": "code",
   "execution_count": null,
   "metadata": {},
   "outputs": [],
   "source": [
    "trains_at_station = train_station_df \\\n",
    "    .withColumn(\n",
    "        \"at_station_sequence\", \n",
    "        F.explode(\n",
    "            F.sequence(\n",
    "                F.col(\"arrival_time\"),\n",
    "                F.col(\"departure_time\"),\n",
    "                F.expr(f\"INTERVAL {interval_minutes} minutes\") \n",
    "            )\n",
    "        )\n",
    "    )\n",
    "\n",
    "trains_at_station.show()"
   ]
  },
  {
   "cell_type": "code",
   "execution_count": null,
   "metadata": {},
   "outputs": [],
   "source": [
    "# Recommended by Copilot for comparing depatures to sequence\n",
    "# .withColumn(\"train_count_minus_departures\", F.size(\"trains_at_station\") - F.size(F.expr(\"filter(trains_at_station, x -> x.departure_time = at_station_sequence)\"))) \n",
    "\n",
    "# My version\n",
    "# .withColumn(\n",
    "#     \"train_count_minus_departures\", \n",
    "#     F.when(\n",
    "#         F.expr(\"array_contains(trains_at_station.departure_time, at_station_sequence)\"), \n",
    "#         F.col(\"train_count\") - 1\n",
    "#     ).otherwise(F.col(\"train_count\"))\n",
    "# )"
   ]
  },
  {
   "cell_type": "code",
   "execution_count": null,
   "metadata": {},
   "outputs": [],
   "source": [
    "trains_at_station_during_sequence = trains_at_station \\\n",
    "    .groupBy(\"at_station_sequence\") \\\n",
    "    .agg(\n",
    "        F.collect_list(\n",
    "            F.struct(\n",
    "                \"train_id\",\n",
    "                \"departure_time\"\n",
    "        )).alias(\"trains_at_station\") \\\n",
    "    ) \\\n",
    "    .withColumn(\"train_count\", F.size(\"trains_at_station\")) \\\n",
    "    .withColumn(\n",
    "        \"train_count_minus_departures\", \n",
    "        F.when(\n",
    "            F.expr(\"array_contains(trains_at_station.departure_time, at_station_sequence)\"), \n",
    "            F.col(\"train_count\") - 1\n",
    "        ).otherwise(F.col(\"train_count\"))\n",
    "    ) \\\n",
    "    .sort(\"at_station_sequence\")\n",
    "\n",
    "trains_at_station_during_sequence.show(truncate=False)"
   ]
  },
  {
   "cell_type": "code",
   "execution_count": 49,
   "metadata": {},
   "outputs": [
    {
     "name": "stdout",
     "output_type": "stream",
     "text": [
      "+-------------------+----------------------------------------------------------------------------------------------------------------------------------+-----------+----------------------------+\n",
      "|at_station_sequence|trains_at_station                                                                                                                 |train_count|train_count_minus_departures|\n",
      "+-------------------+----------------------------------------------------------------------------------------------------------------------------------+-----------+----------------------------+\n",
      "|2024-11-17 08:10:00|[{1, 2024-11-17 08:15:00}, {2, 2024-11-17 08:10:00}, {3, 2024-11-17 08:20:00}, {4, 2024-11-17 08:25:00}, {5, 2024-11-17 08:20:00}]|5          |4                           |\n",
      "+-------------------+----------------------------------------------------------------------------------------------------------------------------------+-----------+----------------------------+\n",
      "\n"
     ]
    }
   ],
   "source": [
    "platform_count = trains_at_station_during_sequence \\\n",
    "    .orderBy(F.desc(\"train_count_minus_departures\")) \\\n",
    "    .limit(1)     \n",
    "\n",
    "platform_count.show(truncate=False)"
   ]
  }
 ],
 "metadata": {
  "kernelspec": {
   "display_name": ".venv",
   "language": "python",
   "name": "python3"
  },
  "language_info": {
   "codemirror_mode": {
    "name": "ipython",
    "version": 3
   },
   "file_extension": ".py",
   "mimetype": "text/x-python",
   "name": "python",
   "nbconvert_exporter": "python",
   "pygments_lexer": "ipython3",
   "version": "3.11.8"
  }
 },
 "nbformat": 4,
 "nbformat_minor": 2
}
