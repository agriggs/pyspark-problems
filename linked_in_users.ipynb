{
 "cells": [
  {
   "cell_type": "markdown",
   "metadata": {},
   "source": [
    "# Problem Statement\n",
    "https://medium.com/data-engineer-things/linkedin-pyspark-interview-question-hard-level-2daa1b7baedf\n",
    "\n",
    "User worked at Microsoft and next job was Google"
   ]
  },
  {
   "cell_type": "code",
   "execution_count": null,
   "metadata": {},
   "outputs": [],
   "source": [
    "from pyspark.sql import SparkSession\n",
    "from pyspark.sql import functions as F\n",
    "\n",
    "# Initialize Spark session\n",
    "spark = SparkSession.builder.master(\"local\").appName(\"LinkedInUsers\").getOrCreate()\n",
    "\n",
    "# Sample data for LinkedIn users\n",
    "linkedin_data = [\n",
    "    (1, 'Microsoft', 'developer', '2020-04-13', '2021-11-01'),\n",
    "    (1, 'Google', 'developer', '2021-11-01', None),\n",
    "    (2, 'Google', 'manager', '2021-01-01', '2021-01-11'),\n",
    "    (2, 'Microsoft', 'manager', '2021-01-11', None),\n",
    "    (3, 'Microsoft', 'analyst', '2019-03-15', '2020-07-24'),\n",
    "    (3, 'Amazon', 'analyst', '2020-08-01', '2020-11-01'),\n",
    "    (3, 'Google', 'senior analyst', '2020-11-01', '2021-03-04'),\n",
    "    (4, 'Google', 'junior developer', '2018-06-01', '2021-11-01'),\n",
    "    (4, 'Google', 'senior developer', '2021-11-01', None),\n",
    "    (5, 'Microsoft', 'manager', '2017-09-26', None),\n",
    "    (6, 'Google', 'CEO', '2015-10-02', None)\n",
    "]\n",
    "\n",
    "# Create a DataFrame from the sample data\n",
    "linkedin_df = spark.createDataFrame(linkedin_data, ['user_id', 'company', 'position', 'start_date', 'end_date'])\n",
    "# linkedin_df.show()"
   ]
  },
  {
   "cell_type": "code",
   "execution_count": null,
   "metadata": {},
   "outputs": [],
   "source": [
    "linked_in_users = linkedin_df \\\n",
    "    .orderBy(\"start_date\", ascending=True) \\\n",
    "    .groupBy('user_id') \\\n",
    "    .agg(\n",
    "        F.collect_list(\n",
    "            F.struct('company', 'start_date')\n",
    "        ).alias('jobs'))\n",
    "\n",
    "# linked_in_users.show(truncate=False)"
   ]
  },
  {
   "cell_type": "code",
   "execution_count": null,
   "metadata": {},
   "outputs": [],
   "source": [
    "linked_in_users_ms_google = linked_in_users \\\n",
    "    .filter(\n",
    "        F.array_contains('jobs.company', 'Microsoft') &\n",
    "        F.array_contains('jobs.company', 'Google')\n",
    "    )\n",
    "\n",
    "# linked_in_users_ms_google.show(truncate=False)"
   ]
  },
  {
   "cell_type": "code",
   "execution_count": 7,
   "metadata": {},
   "outputs": [
    {
     "name": "stdout",
     "output_type": "stream",
     "text": [
      "+-------+-----------------------------------------------+\n",
      "|user_id|jobs                                           |\n",
      "+-------+-----------------------------------------------+\n",
      "|1      |[{Microsoft, 2020-04-13}, {Google, 2021-11-01}]|\n",
      "+-------+-----------------------------------------------+\n",
      "\n"
     ]
    }
   ],
   "source": [
    "linked_in_users_ms_next_google = linked_in_users_ms_google \\\n",
    "    .filter(\n",
    "        F.expr(\"array_position(jobs.company, 'Microsoft') + 1 == array_position(jobs.company, 'Google')\")\n",
    "    )\n",
    "\n",
    "linked_in_users_ms_next_google.show(truncate=False)"
   ]
  }
 ],
 "metadata": {
  "kernelspec": {
   "display_name": ".venv",
   "language": "python",
   "name": "python3"
  },
  "language_info": {
   "codemirror_mode": {
    "name": "ipython",
    "version": 3
   },
   "file_extension": ".py",
   "mimetype": "text/x-python",
   "name": "python",
   "nbconvert_exporter": "python",
   "pygments_lexer": "ipython3",
   "version": "3.11.8"
  }
 },
 "nbformat": 4,
 "nbformat_minor": 2
}
